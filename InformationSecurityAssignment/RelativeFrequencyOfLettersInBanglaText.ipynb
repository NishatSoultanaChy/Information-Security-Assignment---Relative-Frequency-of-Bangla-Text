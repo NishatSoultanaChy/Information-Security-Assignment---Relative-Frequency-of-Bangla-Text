{
 "cells": [
  {
   "cell_type": "code",
   "execution_count": 85,
   "metadata": {},
   "outputs": [],
   "source": [
    "import numpy as np\n",
    "import matplotlib.pyplot as plt\n",
    "import matplotlib.font_manager as fm\n",
    "from collections import defaultdict \n",
    "from collections import OrderedDict \n"
   ]
  },
  {
   "cell_type": "code",
   "execution_count": 98,
   "metadata": {},
   "outputs": [],
   "source": [
    "def create_dictionary(txt):\n",
    "    dictionary = {}\n",
    "    i=0\n",
    "    for x in set(txt):\n",
    "        dictionary[x] = (txt.count(x)/len(txt)) *100\n",
    "        \n",
    "    dict1 = OrderedDict(sorted(dictionary.items())) \n",
    "\n",
    "    return dict1"
   ]
  },
  {
   "cell_type": "code",
   "execution_count": 99,
   "metadata": {},
   "outputs": [],
   "source": [
    "test = open(\"BanglaText.txt\",encoding='utf-8').read()"
   ]
  },
  {
   "cell_type": "code",
   "execution_count": 109,
   "metadata": {},
   "outputs": [
    {
     "data": {
      "text/plain": [
       "<BarContainer object of 70 artists>"
      ]
     },
     "execution_count": 109,
     "metadata": {},
     "output_type": "execute_result"
    },
    {
     "data": {
      "image/png": "[encoded data removed]",
      "text/plain": [
       "<Figure size 1656x432 with 1 Axes>"
      ]
     },
     "metadata": {
      "needs_background": "light"
     },
     "output_type": "display_data"
    }
   ],
   "source": [
    "test_dict = create_dictionary(test)\n",
    "\n",
    "\n",
    "y_pos = np.arange(len(test_dict.keys()))\n",
    "plt.figure(figsize=(23, 6)) \n",
    "\n",
    "prop = fm.FontProperties(fname='kalpurush.ttf')\n",
    "plt.xticks(y_pos, test_dict.keys(), fontproperties=prop, fontsize=15)\n",
    "plt.title('Bangla letter counter')\n",
    "plt.ylabel('Frequency')\n",
    "plt.xlabel('Character')\n",
    "plt.bar(test_dict.keys(), test_dict.values(),width=.5, color='g') \n"
   ]
  },
  {
   "cell_type": "code",
   "execution_count": 103,
   "metadata": {},
   "outputs": [
    {
     "name": "stdout",
     "output_type": "stream",
     "text": [
      "\n",
      "  এর পুনরাবৃত্তির হার :  0.206 %\n",
      "   এর পুনরাবৃত্তির হার :  13.6972 %\n",
      "'  এর পুনরাবৃত্তির হার :  0.0515 %\n",
      "(  এর পুনরাবৃত্তির হার :  0.0515 %\n",
      ")  এর পুনরাবৃত্তির হার :  0.0515 %\n",
      ",  এর পুনরাবৃত্তির হার :  0.5664 %\n",
      "-  এর পুনরাবৃত্তির হার :  0.103 %\n",
      "।  এর পুনরাবৃত্তির হার :  1.0299 %\n",
      "ং  এর পুনরাবৃত্তির হার :  1.9567 %\n",
      "অ  এর পুনরাবৃত্তির হার :  0.3605 %\n",
      "আ  এর পুনরাবৃত্তির হার :  0.4634 %\n",
      "ই  এর পুনরাবৃত্তির হার :  0.4634 %\n",
      "উ  এর পুনরাবৃত্তির হার :  0.4634 %\n",
      "এ  এর পুনরাবৃত্তির হার :  0.6179 %\n",
      "ও  এর পুনরাবৃত্তির হার :  0.5664 %\n",
      "ক  এর পুনরাবৃত্তির হার :  2.3172 %\n",
      "খ  এর পুনরাবৃত্তির হার :  0.5664 %\n",
      "গ  এর পুনরাবৃত্তির হার :  1.2873 %\n",
      "ঘ  এর পুনরাবৃত্তির হার :  0.103 %\n",
      "ঙ  এর পুনরাবৃত্তির হার :  0.5664 %\n",
      "চ  এর পুনরাবৃত্তির হার :  0.7209 %\n",
      "ছ  এর পুনরাবৃত্তির হার :  0.5149 %\n",
      "জ  এর পুনরাবৃত্তির হার :  0.7724 %\n",
      "ঝ  এর পুনরাবৃত্তির হার :  0.0515 %\n",
      "ঞ  এর পুনরাবৃত্তির হার :  0.0515 %\n",
      "ট  এর পুনরাবৃত্তির হার :  0.6694 %\n",
      "ঠ  এর পুনরাবৃত্তির হার :  0.206 %\n",
      "ড  এর পুনরাবৃত্তির হার :  0.309 %\n",
      "ঢ  এর পুনরাবৃত্তির হার :  0.0515 %\n",
      "ণ  এর পুনরাবৃত্তির হার :  0.6179 %\n",
      "ত  এর পুনরাবৃত্তির হার :  3.2956 %\n",
      "থ  এর পুনরাবৃত্তির হার :  0.6694 %\n",
      "দ  এর পুনরাবৃত্তির হার :  1.6993 %\n",
      "ধ  এর পুনরাবৃত্তির হার :  0.4634 %\n",
      "ন  এর পুনরাবৃত্তির হার :  1.8538 %\n",
      "প  এর পুনরাবৃত্তির হার :  1.6993 %\n",
      "ফ  এর পুনরাবৃত্তির হার :  0.103 %\n",
      "ব  এর পুনরাবৃত্তির হার :  4.8919 %\n",
      "ভ  এর পুনরাবৃত্তির হার :  1.9053 %\n",
      "ম  এর পুনরাবৃত্তির হার :  1.5448 %\n",
      "য  এর পুনরাবৃত্তির হার :  2.5232 %\n",
      "র  এর পুনরাবৃত্তির হার :  7.0546 %\n",
      "ল  এর পুনরাবৃত্তির হার :  2.9866 %\n",
      "শ  এর পুনরাবৃত্তির হার :  1.2358 %\n",
      "ষ  এর পুনরাবৃত্তির হার :  2.2657 %\n",
      "স  এর পুনরাবৃত্তির হার :  2.1112 %\n",
      "হ  এর পুনরাবৃত্তির হার :  0.7209 %\n",
      "়  এর পুনরাবৃত্তির হার :  1.1843 %\n",
      "া  এর পুনরাবৃত্তির হার :  11.8435 %\n",
      "ি  এর পুনরাবৃত্তির হার :  4.0165 %\n",
      "ী  এর পুনরাবৃত্তির হার :  0.9784 %\n",
      "ু  এর পুনরাবৃত্তির হার :  0.5664 %\n",
      "ূ  এর পুনরাবৃত্তির হার :  0.4119 %\n",
      "ৃ  এর পুনরাবৃত্তির হার :  0.3605 %\n",
      "ে  এর পুনরাবৃত্তির হার :  5.0463 %\n",
      "ৈ  এর পুনরাবৃত্তির হার :  0.0515 %\n",
      "ো  এর পুনরাবৃত্তির হার :  1.0299 %\n",
      "ৌ  এর পুনরাবৃত্তির হার :  0.0515 %\n",
      "্  এর পুনরাবৃত্তির হার :  6.1792 %\n",
      "ৎ  এর পুনরাবৃত্তির হার :  0.0515 %\n",
      "০  এর পুনরাবৃত্তির হার :  0.103 %\n",
      "১  এর পুনরাবৃত্তির হার :  0.4634 %\n",
      "২  এর পুনরাবৃত্তির হার :  0.309 %\n",
      "৩  এর পুনরাবৃত্তির হার :  0.0515 %\n",
      "৪  এর পুনরাবৃত্তির হার :  0.0515 %\n",
      "৫  এর পুনরাবৃত্তির হার :  0.1545 %\n",
      "৬  এর পুনরাবৃত্তির হার :  0.0515 %\n",
      "৭  এর পুনরাবৃত্তির হার :  0.103 %\n",
      "৮  এর পুনরাবৃত্তির হার :  0.0515 %\n",
      "৯  এর পুনরাবৃত্তির হার :  0.4119 %\n"
     ]
    }
   ],
   "source": [
    "#print(test_dict)\n",
    "for key, value in test_dict.items():\n",
    "    print(key, ' এর পুনরাবৃত্তির হার : ', round(value,4), '%')"
   ]
  },
  {
   "cell_type": "code",
   "execution_count": null,
   "metadata": {},
   "outputs": [],
   "source": []
  }
 ],
 "metadata": {
  "kernelspec": {
   "display_name": "Python 3",
   "language": "python",
   "name": "python3"
  },
  "language_info": {
   "codemirror_mode": {
    "name": "ipython",
    "version": 3
   },
   "file_extension": ".py",
   "mimetype": "text/x-python",
   "name": "python",
   "nbconvert_exporter": "python",
   "pygments_lexer": "ipython3",
   "version": "3.7.3"
  }
 },
 "nbformat": 4,
 "nbformat_minor": 2
}
